{
 "cells": [
  {
   "cell_type": "code",
   "execution_count": 10,
   "metadata": {},
   "outputs": [
    {
     "ename": "ModuleNotFoundError",
     "evalue": "No module named 'world.cell'; 'world' is not a package",
     "output_type": "error",
     "traceback": [
      "\u001b[0;31m---------------------------------------------------------------------------\u001b[0m",
      "\u001b[0;31mModuleNotFoundError\u001b[0m                       Traceback (most recent call last)",
      "Cell \u001b[0;32mIn[10], line 3\u001b[0m\n\u001b[1;32m      1\u001b[0m \u001b[38;5;28;01mfrom\u001b[39;00m \u001b[38;5;21;01menum\u001b[39;00m \u001b[38;5;28;01mimport\u001b[39;00m Enum\n\u001b[1;32m      2\u001b[0m \u001b[38;5;28;01mfrom\u001b[39;00m \u001b[38;5;21;01mabc\u001b[39;00m \u001b[38;5;28;01mimport\u001b[39;00m ABC, abstractmethod\n\u001b[0;32m----> 3\u001b[0m \u001b[38;5;28;01mfrom\u001b[39;00m \u001b[38;5;21;01mmob_entity\u001b[39;00m \u001b[38;5;28;01mimport\u001b[39;00m MobEntity\n\u001b[1;32m      4\u001b[0m \u001b[38;5;28;01mfrom\u001b[39;00m \u001b[38;5;21;01mmap\u001b[39;00m \u001b[38;5;28;01mimport\u001b[39;00m Map\n",
      "File \u001b[0;32m~/playground/py-rouglike/tmp/mob_entity.py:1\u001b[0m\n\u001b[0;32m----> 1\u001b[0m \u001b[38;5;28;01mfrom\u001b[39;00m \u001b[38;5;21;01mentity\u001b[39;00m\u001b[38;5;21;01m.\u001b[39;00m\u001b[38;5;21;01mentity\u001b[39;00m \u001b[38;5;28;01mimport\u001b[39;00m Entity\n\u001b[1;32m      2\u001b[0m \u001b[38;5;28;01mfrom\u001b[39;00m \u001b[38;5;21;01mworld\u001b[39;00m\u001b[38;5;21;01m.\u001b[39;00m\u001b[38;5;21;01mcell\u001b[39;00m \u001b[38;5;28;01mimport\u001b[39;00m Cell\n\u001b[1;32m      3\u001b[0m \u001b[38;5;28;01mfrom\u001b[39;00m \u001b[38;5;21;01minventory\u001b[39;00m \u001b[38;5;28;01mimport\u001b[39;00m Inventory\n",
      "File \u001b[0;32m~/playground/py-rouglike/tmp/entity.py:1\u001b[0m\n\u001b[0;32m----> 1\u001b[0m \u001b[38;5;28;01mfrom\u001b[39;00m \u001b[38;5;21;01mworld\u001b[39;00m\u001b[38;5;21;01m.\u001b[39;00m\u001b[38;5;21;01mcell\u001b[39;00m \u001b[38;5;28;01mimport\u001b[39;00m Cell\n\u001b[1;32m      4\u001b[0m \u001b[38;5;28;01mclass\u001b[39;00m \u001b[38;5;21;01mEntity\u001b[39;00m:\n\u001b[1;32m      5\u001b[0m     \u001b[38;5;28;01mdef\u001b[39;00m \u001b[38;5;21m__init__\u001b[39m(\u001b[38;5;28mself\u001b[39m, position: Cell) \u001b[38;5;241m-\u001b[39m\u001b[38;5;241m>\u001b[39m \u001b[38;5;28;01mNone\u001b[39;00m:\n",
      "\u001b[0;31mModuleNotFoundError\u001b[0m: No module named 'world.cell'; 'world' is not a package"
     ]
    }
   ],
   "source": [
    "from enum import Enum\n",
    "from abc import ABC, abstractmethod\n",
    "from mob_entity import MobEntity\n",
    "from map import Map"
   ]
  },
  {
   "cell_type": "code",
   "execution_count": null,
   "metadata": {},
   "outputs": [],
   "source": [
    "class World:\n",
    "    def __init__(self) -> None:\n",
    "        self.entities = {}\n",
    "        self.events = {}\n",
    "        self.entities_counter = 0\n",
    "        self.map = Map()\n",
    "\n",
    "    def add_entity(self, entity):\n",
    "        self.entities_counter += 1\n",
    "        self.entities[self.entities_counter] = entity"
   ]
  },
  {
   "cell_type": "code",
   "execution_count": null,
   "metadata": {},
   "outputs": [],
   "source": [
    "class EventTrigger(Enum):\n",
    "    KILL = \"KillEvent\"\n",
    "    STEP_ON_CELL = \"StepOnCellEvent\"\n",
    "    DEATH = \"DeathEvent\"\n",
    "    MOVE = \"MoveEvent\"\n",
    "    TURN_COUNT = \"TurnCountEvent\""
   ]
  },
  {
   "cell_type": "code",
   "execution_count": null,
   "metadata": {},
   "outputs": [],
   "source": [
    "class Event:\n",
    "    def __init__(self, event_trigger, world):\n",
    "        self.event_trigger = event_trigger\n",
    "        self.world = world\n",
    "\n",
    "    def activate(self):\n",
    "        pass"
   ]
  },
  {
   "cell_type": "code",
   "execution_count": null,
   "metadata": {},
   "outputs": [],
   "source": [
    "class KillEvent(Event):\n",
    "    def __init__(self, killer_entity, victim_entity, world):\n",
    "        super().__init__(EventTrigger.DEATH, world)\n",
    "        self.killer_entity = killer_entity\n",
    "        self.victim_entity = victim_entity\n",
    "\n",
    "    def activate(self):\n",
    "        print(f\"{self.dying_entity} died\")\n",
    "\n",
    "class StepOnCellEvent(Event):\n",
    "    def __init__(self, cell, steped_entity, world):\n",
    "        super().__init__(EventTrigger.STEP_ON_CELL, world)\n",
    "        self.steped_entity = steped_entity\n",
    "        self.cell = cell\n",
    "\n",
    "    def activate(self):\n",
    "        print(f\"{self.steped_entity} steped on {self.cell}.\")\n",
    "\n",
    "class MoveEvent(Event):\n",
    "    def __init__(self, enity, direction, world):\n",
    "        super().__init__(EventTrigger.MOVE, world)\n",
    "        self.entity = enity\n",
    "        self.direction = direction\n",
    "\n",
    "    def activate(self):\n",
    "        print(f\"{self.entity} moved {self.direction}.\")\n",
    "\n",
    "class DeathEvent(Event):\n",
    "    def __init__(self, entity, world):\n",
    "        super().__init__(EventTrigger.DEATH, world)\n",
    "        self.dying_entity = entity\n",
    "\n",
    "    def activate(self):\n",
    "        print(f\"{self.dying_entity} died.\")\n",
    "\n",
    "class TurnCountEvent(Event):\n",
    "    def __init__(self, turn_count, world):\n",
    "        super().__init__(EventTrigger.TURN_COUNT, world)\n",
    "        self.turn_count = turn_count\n",
    "\n",
    "    def activate(self):\n",
    "        print(f\"Reached {self.turn_count} turns.\")\n",
    "\n",
    "class DropItemsEvent(DeathEvent):\n",
    "    def __init__(self, entity: MobEntity, world:World):\n",
    "        super().__init__(entity, world)\n",
    "        self.entity_cell = self.world.map.cell_info(entity.x, entity.y)\n",
    "\n",
    "    def activate(self):\n",
    "        self.entity_cell.inventory.extend(self.entity.inventory)\n",
    "\n",
    "\n",
    "    "
   ]
  }
 ],
 "metadata": {
  "kernelspec": {
   "display_name": "Python 3",
   "language": "python",
   "name": "python3"
  },
  "language_info": {
   "codemirror_mode": {
    "name": "ipython",
    "version": 3
   },
   "file_extension": ".py",
   "mimetype": "text/x-python",
   "name": "python",
   "nbconvert_exporter": "python",
   "pygments_lexer": "ipython3",
   "version": "3.10.12"
  }
 },
 "nbformat": 4,
 "nbformat_minor": 2
}
