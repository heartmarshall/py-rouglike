{
 "cells": [
  {
   "cell_type": "code",
   "execution_count": 1,
   "metadata": {},
   "outputs": [],
   "source": [
    "import keyboard\n",
    "\n",
    "class InputListener:\n",
    "    _instance = None\n",
    "\n",
    "    def __new__(cls):\n",
    "        if cls._instance is None:\n",
    "            cls._instance = super(InputListener, cls).__new__(cls)\n",
    "            cls._instance._initiated = False\n",
    "        return cls._instance\n",
    "\n",
    "    def __init__(self):\n",
    "        if not self._initiated:\n",
    "            self._pressed_keys = set()\n",
    "            self._button_actions = {}\n",
    "\n",
    "    def add_button(self, key, action):\n",
    "        self._button_actions[key] = action\n",
    "    \n",
    "    def remove_button(self, key):\n",
    "        if key in self._button_actions:\n",
    "            del self._button_actions[key]\n",
    "    \n",
    "    def process_input(self):\n",
    "        pressed_key_event = keyboard.read_event(suppress=True)\n",
    "        if pressed_key_event.event_type == keyboard.KEY_DOWN:\n",
    "            pressed_key = pressed_key_event.name\n",
    "            if pressed_key in self._button_actions:\n",
    "                action = self._button_actions[pressed_key]\n",
    "                action()\n",
    "            else:\n",
    "                print(\"Нет обработчика для данной клавиши:\", pressed_key)"
   ]
  },
  {
   "cell_type": "code",
   "execution_count": null,
   "metadata": {},
   "outputs": [],
   "source": [
    "input = InputListener()\n",
    "\n",
    "input.process_input()"
   ]
  }
 ],
 "metadata": {
  "kernelspec": {
   "display_name": "base",
   "language": "python",
   "name": "python3"
  },
  "language_info": {
   "codemirror_mode": {
    "name": "ipython",
    "version": 3
   },
   "file_extension": ".py",
   "mimetype": "text/x-python",
   "name": "python",
   "nbconvert_exporter": "python",
   "pygments_lexer": "ipython3",
   "version": "3.9.13"
  }
 },
 "nbformat": 4,
 "nbformat_minor": 2
}
